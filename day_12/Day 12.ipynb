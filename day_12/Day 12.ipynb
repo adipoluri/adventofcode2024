{
 "cells": [
  {
   "cell_type": "code",
   "execution_count": 208,
   "id": "6adf9205",
   "metadata": {},
   "outputs": [],
   "source": [
    "## Get Input Data\n",
    "data = [[letter for letter in nums.strip(\"\\n\")] for nums in open('input.txt').readlines()]\n",
    "test = [[letter for letter in nums.strip(\"\\n\")] for nums in open('test.txt').readlines()]"
   ]
  },
  {
   "cell_type": "code",
   "execution_count": 209,
   "id": "6be95967",
   "metadata": {},
   "outputs": [
    {
     "data": {
      "text/plain": [
       "1533644"
      ]
     },
     "execution_count": 209,
     "metadata": {},
     "output_type": "execute_result"
    }
   ],
   "source": [
    "## Part 1\n",
    "def getGardenVal(x,y, data):\n",
    "    if x < 0 or y < 0:\n",
    "        return None\n",
    "    else:\n",
    "        try:\n",
    "            return data[y][x]\n",
    "        except:\n",
    "            return None\n",
    "        \n",
    "def DFS(pos, visited, garden, count, data):\n",
    "    curr = getGardenVal(pos[0],pos[1], data)\n",
    "    if pos in visited:\n",
    "        return\n",
    "    if curr != garden:\n",
    "        count['perimeter'] += 1\n",
    "        return\n",
    "    if curr == garden:\n",
    "        count['area'] += 1\n",
    "        \n",
    "    visited.append(pos)\n",
    "    DFS((pos[0]+1,pos[1]), visited, garden, count, data)\n",
    "    DFS((pos[0]-1,pos[1]), visited, garden, count, data)\n",
    "    DFS((pos[0],pos[1]+1), visited, garden, count, data)\n",
    "    DFS((pos[0],pos[1]-1), visited, garden, count, data)\n",
    "    \n",
    "    \n",
    "price = 0\n",
    "allvisited = []\n",
    "for i in range(len(data)):\n",
    "    for j in range(len(data[0])):\n",
    "        if (j,i) in allvisited:\n",
    "            continue\n",
    "        visited = []\n",
    "        count = {'area':0, 'perimeter':0}\n",
    "        DFS((j,i), visited, data[i][j], count, data)\n",
    "        price += count['area'] * count['perimeter']\n",
    "        allvisited += visited\n",
    "        \n",
    "price"
   ]
  },
  {
   "cell_type": "code",
   "execution_count": 210,
   "id": "91eca520",
   "metadata": {},
   "outputs": [
    {
     "data": {
      "text/plain": [
       "936718"
      ]
     },
     "execution_count": 210,
     "metadata": {},
     "output_type": "execute_result"
    }
   ],
   "source": [
    "## Part 2\n",
    "def DFS(pos, visited, garden, data):\n",
    "    curr = getGardenVal(pos[0],pos[1], data)\n",
    "    if pos in visited:\n",
    "        return\n",
    "    if curr != garden:\n",
    "        return\n",
    "    \n",
    "    visited.append(pos)\n",
    "    DFS((pos[0]+1,pos[1]), visited, garden, data)\n",
    "    DFS((pos[0]-1,pos[1]), visited, garden, data)\n",
    "    DFS((pos[0],pos[1]+1), visited, garden, data)\n",
    "    DFS((pos[0],pos[1]-1), visited, garden, data)\n",
    "    \n",
    "    \n",
    "def getGardenBool(x,y,plant):\n",
    "    if x < 0 or y < 0:\n",
    "        return False\n",
    "    else:\n",
    "        try:\n",
    "            return data[y][x] == plant\n",
    "        except:\n",
    "            return False\n",
    "\n",
    "\n",
    "def calculateCounts(visited):\n",
    "    res = 0\n",
    "    for node in visited:\n",
    "        NW, W, SW, N, S, NE, E, SE = [\n",
    "            getGardenBool(node[0]+x, node[1]+y, data[node[1]][node[0]])\n",
    "            for x in range(-1, 2) \n",
    "            for y in range(-1, 2) \n",
    "            if x or y\n",
    "        ]\n",
    "        res += sum([\n",
    "            N and W and not NW, \n",
    "            N and E and not NE, \n",
    "            S and W and not SW, \n",
    "            S and E and not SE, \n",
    "            not (N or W),\n",
    "            not (N or E),\n",
    "            not (S or W),\n",
    "            not (S or E)\n",
    "        ])\n",
    "    return res\n",
    "\n",
    "price = 0\n",
    "allvisited = []\n",
    "for i in range(len(data)):\n",
    "    for j in range(len(data[0])):\n",
    "        if (j,i) not in allvisited:\n",
    "            visited = []\n",
    "            DFS((j,i), visited, data[i][j], data)\n",
    "            price += len(visited) * calculateCounts(visited)\n",
    "            allvisited += visited\n",
    "            \n",
    "price"
   ]
  }
 ],
 "metadata": {
  "kernelspec": {
   "display_name": "Python 3 (ipykernel)",
   "language": "python",
   "name": "python3"
  },
  "language_info": {
   "codemirror_mode": {
    "name": "ipython",
    "version": 3
   },
   "file_extension": ".py",
   "mimetype": "text/x-python",
   "name": "python",
   "nbconvert_exporter": "python",
   "pygments_lexer": "ipython3",
   "version": "3.10.8"
  }
 },
 "nbformat": 4,
 "nbformat_minor": 5
}
