{
 "cells": [
  {
   "cell_type": "code",
   "execution_count": 95,
   "id": "a4062256",
   "metadata": {},
   "outputs": [],
   "source": [
    "## Format Input\n",
    "data = \"\".join([nums for nums in open('input.txt').readlines()]).split(\"\\n\\n\")\n",
    "warehouse = [[obj for obj in row] for row in data[0].split(\"\\n\")]\n",
    "moves = [move for move in data[1].replace(\"\\n\",\"\")]"
   ]
  },
  {
   "cell_type": "code",
   "execution_count": 94,
   "id": "921ed35f",
   "metadata": {},
   "outputs": [
    {
     "data": {
      "text/plain": [
       "1406628"
      ]
     },
     "execution_count": 94,
     "metadata": {},
     "output_type": "execute_result"
    }
   ],
   "source": [
    "## Part 1\n",
    "find_location = lambda grid, target: next(((j, i) for i, row in enumerate(grid) for j, elem in enumerate(row) if elem == target), None)\n",
    "diffs = {\"^\":(0,-1),\">\":(1,0),\"v\":(0,1),\"<\":(-1,0)}\n",
    "\n",
    "def printWarehouse(warehouse):\n",
    "    for row in warehouse:\n",
    "        print(\"\".join(row))\n",
    "    print(\"\\n\")\n",
    "        \n",
    "def can_move(x,y,move):\n",
    "    if warehouse[y][x] == \"#\":\n",
    "        return False\n",
    "    if warehouse[y][x] == \"O\":\n",
    "        return move_obj(move,x,y)\n",
    "    return True\n",
    "    \n",
    "def move_obj(move,in_x,in_y):\n",
    "    dx,dy = diffs[move]\n",
    "    x, y = in_x+dx,in_y+dy,\n",
    "\n",
    "    if can_move(x,y,move):\n",
    "            warehouse[y][x] = warehouse[in_y][in_x]\n",
    "            warehouse[in_y][in_x] = \".\"\n",
    "            return True\n",
    "    return False\n",
    "\n",
    "for move in moves:\n",
    "    x,y = find_location(warehouse, \"@\")\n",
    "    move_obj(move,x,y)\n",
    "\n",
    "GPS = 0\n",
    "for i in range(len(warehouse)):\n",
    "    for j in range(len(warehouse[i])):\n",
    "        if warehouse[i][j] == \"O\":\n",
    "            GPS += 100*i+j\n",
    "GPS"
   ]
  },
  {
   "cell_type": "code",
   "execution_count": 96,
   "id": "f73fd58f",
   "metadata": {},
   "outputs": [
    {
     "data": {
      "text/plain": [
       "1432781"
      ]
     },
     "execution_count": 96,
     "metadata": {},
     "output_type": "execute_result"
    }
   ],
   "source": [
    "## Part 2\n",
    "warehouse = [[obj for obj in row] for row in data[0].replace(\"#\",\"##\").replace(\"O\",\"[]\").replace(\".\",\"..\").replace(\"@\",\"@.\").split(\"\\n\")]\n",
    "\n",
    "def check_can_move(move,in_x,in_y):\n",
    "    dx,dy = diffs[move]\n",
    "    x, y = in_x+dx,in_y+dy,\n",
    "\n",
    "    if warehouse[y][x] == \"#\":\n",
    "        return False\n",
    "\n",
    "    if move in [\">\",\"<\"]:     \n",
    "        if warehouse[y][x] in [\"[\",\"]\"]:\n",
    "            return check_can_move(move,x,y)\n",
    "    else:\n",
    "        if warehouse[y][x] == \"[\":\n",
    "            return check_can_move(move,x,y) and check_can_move(move,x+1,y)\n",
    "        if warehouse[y][x] == \"]\":\n",
    "            return check_can_move(move,x,y) and check_can_move(move,x-1,y)\n",
    "    return True\n",
    "\n",
    "\n",
    "def move_robot(move,in_x,in_y):\n",
    "    dx,dy = diffs[move]\n",
    "    x, y = in_x+dx,in_y+dy,\n",
    "\n",
    "    if warehouse[y][x] == \"#\":\n",
    "        return False\n",
    "\n",
    "    if move in [\">\",\"<\"]:     \n",
    "        if warehouse[y][x] in [\"[\",\"]\"]:\n",
    "            move_robot(move,x,y)\n",
    "    else:\n",
    "        if warehouse[y][x] == \"[\":\n",
    "            move_robot(move,x,y)\n",
    "            move_robot(move,x+1,y)\n",
    "        elif warehouse[y][x] == \"]\":\n",
    "            move_robot(move,x,y)\n",
    "            move_robot(move,x-1,y)\n",
    "            \n",
    "    warehouse[y][x] = warehouse[in_y][in_x]\n",
    "    warehouse[in_y][in_x] = \".\"\n",
    "\n",
    "\n",
    "for move in moves:\n",
    "    x,y = find_location(warehouse, \"@\")\n",
    "    if check_can_move(move,x,y):\n",
    "        move_robot(move,x,y)\n",
    "\n",
    "\n",
    "\n",
    "GPS = 0\n",
    "for i in range(len(warehouse)):\n",
    "    for j in range(len(warehouse[i])):\n",
    "        if warehouse[i][j] == \"[\":\n",
    "            GPS += 100*i+j\n",
    "GPS"
   ]
  }
 ],
 "metadata": {
  "kernelspec": {
   "display_name": "Python 3 (ipykernel)",
   "language": "python",
   "name": "python3"
  },
  "language_info": {
   "codemirror_mode": {
    "name": "ipython",
    "version": 3
   },
   "file_extension": ".py",
   "mimetype": "text/x-python",
   "name": "python",
   "nbconvert_exporter": "python",
   "pygments_lexer": "ipython3",
   "version": "3.12.3"
  }
 },
 "nbformat": 4,
 "nbformat_minor": 5
}
