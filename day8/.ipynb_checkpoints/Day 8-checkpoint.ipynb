{
 "cells": [
  {
   "cell_type": "code",
   "execution_count": 37,
   "id": "7266cb19",
   "metadata": {},
   "outputs": [],
   "source": [
    "# Load Data\n",
    "data = [[letter for letter in locs.strip()] for locs in open('input.txt').readlines()]\n",
    "test = [[letter for letter in locs.strip()] for locs in open('test.txt').readlines()]"
   ]
  },
  {
   "cell_type": "code",
   "execution_count": 33,
   "id": "efbc7d24",
   "metadata": {},
   "outputs": [
    {
     "data": {
      "text/plain": [
       "301"
      ]
     },
     "execution_count": 33,
     "metadata": {},
     "output_type": "execute_result"
    }
   ],
   "source": [
    "## Part 1\n",
    "def setAntinode(x,y,map):\n",
    "    if x < 0 or y < 0:\n",
    "        return\n",
    "    else:\n",
    "        try:\n",
    "            map[y][x] = 1\n",
    "        except:\n",
    "            return\n",
    "        \n",
    "all_antennas = {}\n",
    "\n",
    "for i in range(len(data)):\n",
    "    for j in range(len(data[0])):\n",
    "        if data[i][j] != \".\":\n",
    "            a = all_antennas.get(data[i][j],[])\n",
    "            a.append((j,i))\n",
    "            all_antennas[data[i][j]] = a\n",
    "\n",
    "map = [[0 for num in range(len(data[0]))] for num in range(len(data))]\n",
    "for key in all_antennas:\n",
    "    antennas = all_antennas[key]\n",
    "    \n",
    "    for i in range(len(antennas)):\n",
    "        origin = antennas[i]\n",
    "        for antenna in antennas[:i] + antennas[i+1:]:\n",
    "            diff = (origin[0] - antenna[0], origin[1] - antenna[1])\n",
    "            setAntinode(origin[0]+diff[0], origin[1]+diff[1],map)\n",
    "    \n",
    "count = 0\n",
    "for i in range(len(map)):\n",
    "    for j in range(len(map[0])):\n",
    "        if map[i][j] == 1:\n",
    "            count += 1\n",
    "            \n",
    "count"
   ]
  },
  {
   "cell_type": "code",
   "execution_count": 38,
   "id": "a275625e",
   "metadata": {},
   "outputs": [
    {
     "data": {
      "text/plain": [
       "900"
      ]
     },
     "execution_count": 38,
     "metadata": {},
     "output_type": "execute_result"
    }
   ],
   "source": [
    "## Part 2\n",
    "def setAntinodes(x,y,diff,map):\n",
    "    if x < 0 or y < 0:\n",
    "        return\n",
    "    else:\n",
    "        try:\n",
    "            map[y][x] = 1\n",
    "            setAntinodes(x+diff[0], y+diff[1], diff, map)\n",
    "        except:\n",
    "            return\n",
    "        \n",
    "all_antennas = {}\n",
    "\n",
    "for i in range(len(data)):\n",
    "    for j in range(len(data[0])):\n",
    "        if data[i][j] != \".\":\n",
    "            a = all_antennas.get(data[i][j],[])\n",
    "            a.append((j,i))\n",
    "            all_antennas[data[i][j]] = a\n",
    "\n",
    "map = [[0 for num in range(len(data[0]))] for num in range(len(data))]\n",
    "\n",
    "for key in all_antennas:\n",
    "    antennas = all_antennas[key]\n",
    "    \n",
    "    for i in range(len(antennas)):\n",
    "        origin = antennas[i]\n",
    "        for antenna in antennas[:i] + antennas[i+1:]:\n",
    "            diff = (origin[0] - antenna[0], origin[1] - antenna[1])\n",
    "            setAntinodes(origin[0]+diff[0], origin[1]+diff[1],diff, map)\n",
    "    \n",
    "count = 0\n",
    "for i in range(len(map)):\n",
    "    for j in range(len(map[0])):\n",
    "        if map[i][j] == 1:\n",
    "            count += 1\n",
    "            \n",
    "count"
   ]
  },
  {
   "cell_type": "code",
   "execution_count": null,
   "id": "8d3a5560",
   "metadata": {},
   "outputs": [],
   "source": []
  }
 ],
 "metadata": {
  "kernelspec": {
   "display_name": "Python 3 (ipykernel)",
   "language": "python",
   "name": "python3"
  },
  "language_info": {
   "codemirror_mode": {
    "name": "ipython",
    "version": 3
   },
   "file_extension": ".py",
   "mimetype": "text/x-python",
   "name": "python",
   "nbconvert_exporter": "python",
   "pygments_lexer": "ipython3",
   "version": "3.10.8"
  }
 },
 "nbformat": 4,
 "nbformat_minor": 5
}
