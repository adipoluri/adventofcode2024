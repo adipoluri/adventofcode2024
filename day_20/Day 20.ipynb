{
 "cells": [
  {
   "cell_type": "code",
   "execution_count": 71,
   "id": "2f57a50f-ef6d-483f-b091-cb1a77b6a85c",
   "metadata": {},
   "outputs": [],
   "source": [
    "## Format Input\n",
    "find_location = lambda grid, target: next(((j, i) for i, row in enumerate(grid) for j, elem in enumerate(row) if elem == target), None)\n",
    "\n",
    "def getInput():\n",
    "    maze = [[_ for _ in row.strip()] for row in open('input.txt').readlines()]\n",
    "    start = find_location(maze,\"S\")\n",
    "    end = find_location(maze,\"E\")\n",
    "    return maze, start, end\n",
    "\n",
    "\n",
    "## Helpers\n",
    "def getValueInRange(x,y,maze):\n",
    "    if x < 0 or y < 0:\n",
    "        return None\n",
    "    else:\n",
    "        try:\n",
    "            val = maze[y][x]\n",
    "            return val\n",
    "        except:\n",
    "            return None\n",
    "            \n",
    "def getNeighbours(node,maze):\n",
    "    cost,pos = node\n",
    "    vectors = [(1,0),(0,1),(0,-1),(-1,0)]\n",
    "    adj = []\n",
    "    for vector in vectors:\n",
    "        dx,dy = vector\n",
    "        if maze[pos[1]+dy][pos[0]+dx] == \"#\":\n",
    "            continue\n",
    "        adj.append((cost + 1, (pos[0]+dx,pos[1]+dy)))\n",
    "    return adj"
   ]
  },
  {
   "cell_type": "code",
   "execution_count": 76,
   "id": "45412f8f-be01-4f99-b44c-c1cd2c8589ee",
   "metadata": {},
   "outputs": [
    {
     "data": {
      "text/plain": [
       "1459"
      ]
     },
     "execution_count": 76,
     "metadata": {},
     "output_type": "execute_result"
    }
   ],
   "source": [
    "## Part 1\n",
    "maze, start, end = getInput()\n",
    "q = [(0,start)]\n",
    "visited = [start]\n",
    "node_cost = {}\n",
    "\n",
    "while len(q) > 0:\n",
    "    cost,pos = q.pop(0)\n",
    "    node_cost[pos] = cost\n",
    "    neighbours = getNeighbours((cost,pos), maze)\n",
    "    for adj in neighbours:\n",
    "        if adj[1] not in visited:\n",
    "            q.append(adj)\n",
    "            visited.append(adj[1])\n",
    "\n",
    "cheat_costs = {}\n",
    "for node in node_cost:\n",
    "    vectors = [(2,0),(0,2),(0,-2),(-2,0)]\n",
    "    for vector in vectors:\n",
    "        dx,dy = vector\n",
    "        cheat_node = (node[0]+dx, node[1]+dy)\n",
    "        if cheat_node in node_cost:\n",
    "            cheat_savings = node_cost[cheat_node] - (2+node_cost[node]) \n",
    "            if cheat_savings > 0:\n",
    "                cheat_costs[(node, cheat_node)] = cheat_savings\n",
    "\n",
    "\n",
    "count = 0\n",
    "for node in cheat_costs:\n",
    "    count += 1 if cheat_costs[node] >= 100 else 0\n",
    "        \n",
    "\n",
    "count"
   ]
  },
  {
   "cell_type": "code",
   "execution_count": 77,
   "id": "8505d485-f069-429f-976a-f129b330f99c",
   "metadata": {},
   "outputs": [
    {
     "data": {
      "text/plain": [
       "1016066"
      ]
     },
     "execution_count": 77,
     "metadata": {},
     "output_type": "execute_result"
    }
   ],
   "source": [
    "## Part 2\n",
    "cheat_costs = {}\n",
    "for node in node_cost:\n",
    "    for cheat_node in node_cost:\n",
    "        cheat_path_cost = (abs(cheat_node[0]-node[0]) + abs(cheat_node[1]-node[1]))\n",
    "        if cheat_path_cost <= 20:\n",
    "            cheat_savings = node_cost[cheat_node] - (cheat_path_cost+node_cost[node]) \n",
    "            if cheat_savings > 0:\n",
    "                cheat_costs[(node, cheat_node)] = cheat_savings\n",
    "\n",
    "\n",
    "count = 0\n",
    "for node in cheat_costs:\n",
    "    count += 1 if cheat_costs[node] >= 100 else 0\n",
    "        \n",
    "\n",
    "count"
   ]
  }
 ],
 "metadata": {
  "kernelspec": {
   "display_name": "Python 3 (ipykernel)",
   "language": "python",
   "name": "python3"
  },
  "language_info": {
   "codemirror_mode": {
    "name": "ipython",
    "version": 3
   },
   "file_extension": ".py",
   "mimetype": "text/x-python",
   "name": "python",
   "nbconvert_exporter": "python",
   "pygments_lexer": "ipython3",
   "version": "3.12.3"
  }
 },
 "nbformat": 4,
 "nbformat_minor": 5
}
