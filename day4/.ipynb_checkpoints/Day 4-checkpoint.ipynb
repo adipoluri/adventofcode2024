{
 "cells": [
  {
   "cell_type": "code",
   "execution_count": 78,
   "id": "36d0edb8",
   "metadata": {},
   "outputs": [],
   "source": [
    "## Load Data ##\n",
    "data = [[letter for letter in nums.strip(\"\\n\")] for nums in open('input.txt').readlines()]"
   ]
  },
  {
   "cell_type": "code",
   "execution_count": 79,
   "id": "df0038ba",
   "metadata": {},
   "outputs": [
    {
     "data": {
      "text/plain": [
       "2685"
      ]
     },
     "execution_count": 79,
     "metadata": {},
     "output_type": "execute_result"
    }
   ],
   "source": [
    "## Part 1\n",
    "def getLetter(x,y):\n",
    "    if x < 0 or y < 0:\n",
    "        return \"\"\n",
    "    else:\n",
    "        try:\n",
    "            return data[y][x]\n",
    "        except:\n",
    "            return \"\"\n",
    "    \n",
    "def checkMatch(coords):\n",
    "    word = \"\"\n",
    "    for x,y in coords:\n",
    "        letter = getLetter(x,y)\n",
    "        if letter == \"\":\n",
    "            return False\n",
    "        word += letter\n",
    "    return word == \"XMAS\"\n",
    "\n",
    "\n",
    "\n",
    "def getDirectionalCoords(x,y):\n",
    "    return([[(x,y),(x-1,y),(x-2,y),(x-3,y)],\n",
    "                [(x,y),(x+1,y),(x+2,y),(x+3,y)],\n",
    "                [(x,y),(x,y-1),(x,y-2),(x,y-3)],\n",
    "                [(x,y),(x,y+1),(x,y+2),(x,y+3)],\n",
    "                [(x,y),(x-1,y-1),(x-2,y-2),(x-3,y-3)],\n",
    "                [(x,y),(x-1,y+1),(x-2,y+2),(x-3,y+3)],\n",
    "                [(x,y),(x+1,y-1),(x+2,y-2),(x+3,y-3)],\n",
    "                [(x,y),(x+1,y+1),(x+2,y+2),(x+3,y+3)]\n",
    "               ])\n",
    "\n",
    "starts = []\n",
    "for y in range(len(data)):\n",
    "    for x in range(len(data[0])):\n",
    "        if data[y][x] == \"X\":\n",
    "            starts.append((y,x))\n",
    "\n",
    "count = 0\n",
    "for y,x in starts:\n",
    "    coords = getDirectionalCoords(x,y)\n",
    "    for coord in coords:\n",
    "        if checkMatch(coord):\n",
    "            count += 1\n",
    "\n",
    "count"
   ]
  },
  {
   "cell_type": "code",
   "execution_count": 80,
   "id": "8fa5328a",
   "metadata": {},
   "outputs": [
    {
     "data": {
      "text/plain": [
       "2048"
      ]
     },
     "execution_count": 80,
     "metadata": {},
     "output_type": "execute_result"
    }
   ],
   "source": [
    "## Part 2\n",
    "def checkMatchCross(multi_coords):\n",
    "    for coords in multi_coords:\n",
    "        word = \"\"\n",
    "        for x,y in coords:\n",
    "            letter = getLetter(x,y)\n",
    "            if letter == \"\":\n",
    "                return False\n",
    "            \n",
    "            word += letter\n",
    "            \n",
    "        if (word != \"MAS\" and word != \"SAM\"):\n",
    "            return False\n",
    "    return True\n",
    "\n",
    "\n",
    "def getDirectionalCoordsCross(x,y):\n",
    "    return([[(x-1,y-1),(x,y),(x+1,y+1)],[(x-1,y+1),(x,y),(x+1,y-1)]])\n",
    "\n",
    "starts = []\n",
    "for y in range(len(data)):\n",
    "    for x in range(len(data[0])):\n",
    "        if data[y][x] == \"A\":\n",
    "            starts.append((y,x))\n",
    "\n",
    "count = 0\n",
    "for y,x in starts:\n",
    "    coords = getDirectionalCoordsCross(x,y)\n",
    "    if checkMatchCross(coords):\n",
    "        count += 1\n",
    "\n",
    "count"
   ]
  }
 ],
 "metadata": {
  "kernelspec": {
   "display_name": "Python 3 (ipykernel)",
   "language": "python",
   "name": "python3"
  },
  "language_info": {
   "codemirror_mode": {
    "name": "ipython",
    "version": 3
   },
   "file_extension": ".py",
   "mimetype": "text/x-python",
   "name": "python",
   "nbconvert_exporter": "python",
   "pygments_lexer": "ipython3",
   "version": "3.10.8"
  }
 },
 "nbformat": 4,
 "nbformat_minor": 5
}
