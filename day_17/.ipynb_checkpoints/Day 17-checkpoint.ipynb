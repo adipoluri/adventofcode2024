{
 "cells": [
  {
   "cell_type": "code",
   "execution_count": 287,
   "id": "973d8f2e-d157-4ad0-954d-6e2f0a3ca0be",
   "metadata": {},
   "outputs": [],
   "source": [
    "## Format Input\n",
    "def getInput():\n",
    "    data = \"\".join(open('input.txt').readlines()).split(\"\\n\\n\")\n",
    "    commands = [int(num) for num in data[1][9:].strip().split(\",\")]\n",
    "    rA,rB,rC = [int(num[12:]) for num in data[0].split(\"\\n\")]\n",
    "    return rA,rB,rC,commands"
   ]
  },
  {
   "cell_type": "code",
   "execution_count": 288,
   "id": "4c8c051f-2e6c-4489-927d-664e9ac7f0a5",
   "metadata": {},
   "outputs": [
    {
     "data": {
      "text/plain": [
       "'1,5,0,3,7,3,0,3,1'"
      ]
     },
     "execution_count": 288,
     "metadata": {},
     "output_type": "execute_result"
    }
   ],
   "source": [
    "## Part 1\n",
    "rA,rB,rC,commands = getInput()\n",
    "\n",
    "def computeProgram(registers, commands):\n",
    "    rA,rB,rC = registers\n",
    "    cout = []\n",
    "    \n",
    "    ip = 0\n",
    "    while ip < len(commands):\n",
    "        instruction = commands[ip]\n",
    "        lop = commands[ip+1]\n",
    "        cop = lop if lop <= 3 else (rA if lop == 4 else (rB if lop == 5 else rC))\n",
    "        \n",
    "        if instruction == 0: # adv\n",
    "            rA = rA//(2**(cop))\n",
    "        elif instruction == 1:\n",
    "            rB = rB ^ lop\n",
    "        elif instruction == 2:  \n",
    "            rB = cop % 8\n",
    "        elif instruction == 3:\n",
    "            if rA != 0:\n",
    "                ip = lop - 2\n",
    "        elif instruction == 4:\n",
    "            rB = rB ^ rC\n",
    "        elif instruction == 5:\n",
    "            cout.append(cop % 8)\n",
    "        elif instruction == 6:\n",
    "            rB = rA//(2**(cop))\n",
    "        elif instruction == 7:\n",
    "            rC = rA//(2**(cop))\n",
    "            \n",
    "        ip += 2\n",
    "    return cout\n",
    "\n",
    "out = computeProgram((rA,rB,rC), commands)\n",
    "\",\".join([str(num) for num in out])"
   ]
  },
  {
   "cell_type": "code",
   "execution_count": 289,
   "id": "e4193b41-8f57-46c6-abe5-40a903e9dd44",
   "metadata": {},
   "outputs": [
    {
     "name": "stdout",
     "output_type": "stream",
     "text": [
      "rA should be initialized to: 105981155568026\n",
      "\n",
      "The Program and Program output is listed below:\n",
      "2,4,1,5,7,5,1,6,0,3,4,1,5,5,3,0\n",
      "2,4,1,5,7,5,1,6,0,3,4,1,5,5,3,0\n"
     ]
    }
   ],
   "source": [
    "## Part 1\n",
    "rA,rB,rC,commands = getInput()\n",
    "n = 1\n",
    "rA = 0\n",
    "\n",
    "def findrA(n,rA):\n",
    "    if n == 17: ## Exit Condition\n",
    "        return rA//8\n",
    "        \n",
    "    for i in range(0,8):\n",
    "        cout = computeProgram((rA+i,rB,rC), commands)\n",
    "        if cout[-n:] == commands[-n:]:\n",
    "            res = findrA(n+1, (rA+i) * 8)\n",
    "            if res != None:\n",
    "                return res\n",
    "        \n",
    "    return None\n",
    "\n",
    "rA = findrA(n,rA)\n",
    "print(\"rA should be initialized to: \" + str(rA) + \"\\n\")\n",
    "print(\"The Program and Program output is listed below:\")\n",
    "print(\",\".join([str(num) for num in commands]))\n",
    "print(\",\".join([str(num) for num in computeProgram((rA,rB,rC), commands)]))"
   ]
  }
 ],
 "metadata": {
  "kernelspec": {
   "display_name": "Python 3 (ipykernel)",
   "language": "python",
   "name": "python3"
  },
  "language_info": {
   "codemirror_mode": {
    "name": "ipython",
    "version": 3
   },
   "file_extension": ".py",
   "mimetype": "text/x-python",
   "name": "python",
   "nbconvert_exporter": "python",
   "pygments_lexer": "ipython3",
   "version": "3.12.3"
  }
 },
 "nbformat": 4,
 "nbformat_minor": 5
}
