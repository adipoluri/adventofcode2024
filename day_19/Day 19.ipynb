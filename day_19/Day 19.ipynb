{
 "cells": [
  {
   "cell_type": "code",
   "execution_count": 64,
   "id": "80d15c07-fc0e-4cf9-b548-230bcfcf4f37",
   "metadata": {},
   "outputs": [],
   "source": [
    "def getInput():\n",
    "    data = \"\".join(open('input.txt').readlines()).split(\"\\n\\n\")\n",
    "    towels = [towel.strip() for towel in data[0].strip().split(\",\")]\n",
    "    combos = [combo.strip() for combo in data[1].strip().split(\"\\n\")]\n",
    "    return towels, combos"
   ]
  },
  {
   "cell_type": "code",
   "execution_count": 65,
   "id": "e27be70d-e89c-4d27-88f2-c04356d86c6a",
   "metadata": {},
   "outputs": [
    {
     "data": {
      "text/plain": [
       "276"
      ]
     },
     "execution_count": 65,
     "metadata": {},
     "output_type": "execute_result"
    }
   ],
   "source": [
    "## Part 1\n",
    "\n",
    "towels, combos = getInput()\n",
    "\n",
    "def checkCombo(combo):\n",
    "    if combo == \"\":\n",
    "        return True        \n",
    "    for i in range(len(combo)):\n",
    "        if combo[:i+1] in towels:\n",
    "            if checkCombo(combo[i+1:]):\n",
    "                return True\n",
    "    return False  \n",
    "\n",
    "count = 0\n",
    "for combo in combos:\n",
    "    count += 1 if checkCombo(combo) else 0\n",
    "\n",
    "count"
   ]
  },
  {
   "cell_type": "code",
   "execution_count": 68,
   "id": "4ee8e236-612d-4f68-b2d3-f4500702d55a",
   "metadata": {},
   "outputs": [
    {
     "data": {
      "text/plain": [
       "681226908011510"
      ]
     },
     "execution_count": 68,
     "metadata": {},
     "output_type": "execute_result"
    }
   ],
   "source": [
    "## Part 2\n",
    "\n",
    "towels, combos = getInput()\n",
    "memo = {}\n",
    "def getAllCombos(combo):\n",
    "    sum = 0\n",
    "    if combo == \"\":\n",
    "        return 1 + sum\n",
    "    elif combo in memo:\n",
    "        return memo[combo]\n",
    "        \n",
    "    for i in range(len(combo)):\n",
    "        sum += getAllCombos(combo[i+1:]) if combo[:i+1] in towels else 0\n",
    "            \n",
    "            \n",
    "    memo[combo] = sum      \n",
    "    return sum \n",
    "\n",
    "count = 0\n",
    "for combo in combos:\n",
    "    count += getAllCombos(combo)\n",
    "\n",
    "count"
   ]
  }
 ],
 "metadata": {
  "kernelspec": {
   "display_name": "Python 3 (ipykernel)",
   "language": "python",
   "name": "python3"
  },
  "language_info": {
   "codemirror_mode": {
    "name": "ipython",
    "version": 3
   },
   "file_extension": ".py",
   "mimetype": "text/x-python",
   "name": "python",
   "nbconvert_exporter": "python",
   "pygments_lexer": "ipython3",
   "version": "3.12.3"
  }
 },
 "nbformat": 4,
 "nbformat_minor": 5
}
