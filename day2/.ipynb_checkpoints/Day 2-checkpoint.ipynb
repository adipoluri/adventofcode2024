{
 "cells": [
  {
   "cell_type": "code",
   "execution_count": 44,
   "id": "c3201e81",
   "metadata": {},
   "outputs": [],
   "source": [
    "## Load Data ##\n",
    "data = [[int(num) for num in nums.replace(\"\\n\",\"\").split()] for nums in open('input.txt').readlines()]"
   ]
  },
  {
   "cell_type": "code",
   "execution_count": 38,
   "id": "a1be7d39",
   "metadata": {},
   "outputs": [
    {
     "data": {
      "text/plain": [
       "490"
      ]
     },
     "execution_count": 38,
     "metadata": {},
     "output_type": "execute_result"
    }
   ],
   "source": [
    "## Part 1, O(n^2)\n",
    "count = 0\n",
    "\n",
    "def checkReport(line):\n",
    "    decreasing = line[1] < line[0]\n",
    "\n",
    "    for i in range(0,len(line)-1):\n",
    "        if (abs(line[i+1]-line[i]) > 3) or (decreasing and line[i+1] >= line[i]) or not decreasing and line[i+1] <= line[i]:\n",
    "            return False\n",
    "        \n",
    "    return True\n",
    "            \n",
    "count = 0\n",
    "for line in data:\n",
    "    if checkReport(line):\n",
    "        count += 1\n",
    "count"
   ]
  },
  {
   "cell_type": "code",
   "execution_count": 48,
   "id": "cea919fc",
   "metadata": {},
   "outputs": [
    {
     "data": {
      "text/plain": [
       "536"
      ]
     },
     "execution_count": 48,
     "metadata": {},
     "output_type": "execute_result"
    }
   ],
   "source": [
    "## Part 2\n",
    "\n",
    "def checkReport(line):\n",
    "    decreasing = line[1] < line[0]\n",
    "\n",
    "    for i in range(0,len(line)-1):\n",
    "        if (abs(line[i+1]-line[i]) > 3) or (decreasing and line[i+1] >= line[i]) or not decreasing and line[i+1] <= line[i]:\n",
    "            return False\n",
    "        \n",
    "    return True\n",
    "            \n",
    "def checkErrorReport(line):\n",
    "    for i in range(len(line)):\n",
    "        if checkReport(line[:i] + line[i+1:]):\n",
    "            return True\n",
    "                \n",
    "count = 0\n",
    "for line in data:\n",
    "    if checkReport(line) or checkErrorReport(line):\n",
    "        count += 1\n",
    "    \n",
    "     \n",
    "count"
   ]
  }
 ],
 "metadata": {
  "kernelspec": {
   "display_name": "Python 3 (ipykernel)",
   "language": "python",
   "name": "python3"
  },
  "language_info": {
   "codemirror_mode": {
    "name": "ipython",
    "version": 3
   },
   "file_extension": ".py",
   "mimetype": "text/x-python",
   "name": "python",
   "nbconvert_exporter": "python",
   "pygments_lexer": "ipython3",
   "version": "3.10.8"
  }
 },
 "nbformat": 4,
 "nbformat_minor": 5
}
