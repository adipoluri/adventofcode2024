{
 "cells": [
  {
   "cell_type": "code",
   "execution_count": 95,
   "id": "191c482e",
   "metadata": {},
   "outputs": [],
   "source": [
    "## Load Data ##\n",
    "import time\n",
    "\n",
    "data = [(int(nums.strip().split(\":\")[0]),[int(num) for num in nums.strip().split(\":\")[1].strip().split(\" \")]) for nums in open('input.txt').readlines()]\n",
    "test = [(int(nums.strip().split(\":\")[0]),[int(num) for num in nums.strip().split(\":\")[1].strip().split(\" \")]) for nums in open('test.txt').readlines()]"
   ]
  },
  {
   "cell_type": "code",
   "execution_count": 96,
   "id": "65bffa43",
   "metadata": {
    "scrolled": true
   },
   "outputs": [
    {
     "name": "stdout",
     "output_type": "stream",
     "text": [
      "Time Elapsed: 0.066s\n",
      "Sum of Possible Calibrations: 1399219271639\n"
     ]
    }
   ],
   "source": [
    "## Part 1\n",
    "\n",
    "def isCalibrationValid(numbers, current, result):\n",
    "    if len(numbers):\n",
    "        return (isCalibrationValid(numbers[1:], current * numbers[0], result) \n",
    "                or isCalibrationValid(numbers[1:], current + numbers[0], result))\n",
    "    else:\n",
    "        return current == result\n",
    "\n",
    "startTime = time.time()\n",
    "\n",
    "count = 0\n",
    "for result, nums in data:\n",
    "    if isCalibrationValid(nums[1:], nums[0], result):\n",
    "        count += result\n",
    "        \n",
    "endTime = time.time()\n",
    "print(\"Time Elapsed: \" + str((endTime - startTime))[:5] + \"s\")\n",
    "print(\"Sum of Possible Calibrations: \" + str(count))"
   ]
  },
  {
   "cell_type": "code",
   "execution_count": 98,
   "id": "7ab4223d",
   "metadata": {
    "scrolled": true
   },
   "outputs": [
    {
     "name": "stdout",
     "output_type": "stream",
     "text": [
      "Time Elapsed: 2.682s\n",
      "Sum of Possible Calibrations: 275791737999003\n"
     ]
    }
   ],
   "source": [
    "## Part 2\n",
    "def isCalibrationValid3ops(numbers, current, result):\n",
    "    if len(numbers):\n",
    "        return (isCalibrationValid3ops(numbers[1:], current * numbers[0], result) \n",
    "                or isCalibrationValid3ops(numbers[1:], current + numbers[0], result) \n",
    "                or isCalibrationValid3ops(numbers[1:], int(str(current) + str(numbers[0])), result))\n",
    "    else:\n",
    "        return current == result\n",
    "    \n",
    "startTime = time.time()\n",
    "\n",
    "\n",
    "count = 0\n",
    "for result, nums in data:\n",
    "    if isCalibrationValid3ops(nums[1:], nums[0], result):\n",
    "        count += result\n",
    "        \n",
    "endTime = time.time()\n",
    "print(\"Time Elapsed: \" + str((endTime - startTime))[:5] + \"s\")\n",
    "print(\"Sum of Possible Calibrations: \" + str(count))"
   ]
  }
 ],
 "metadata": {
  "kernelspec": {
   "display_name": "Python 3 (ipykernel)",
   "language": "python",
   "name": "python3"
  },
  "language_info": {
   "codemirror_mode": {
    "name": "ipython",
    "version": 3
   },
   "file_extension": ".py",
   "mimetype": "text/x-python",
   "name": "python",
   "nbconvert_exporter": "python",
   "pygments_lexer": "ipython3",
   "version": "3.10.8"
  }
 },
 "nbformat": 4,
 "nbformat_minor": 5
}
