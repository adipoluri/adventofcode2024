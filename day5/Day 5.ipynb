{
 "cells": [
  {
   "cell_type": "code",
   "execution_count": 205,
   "id": "a176d803",
   "metadata": {},
   "outputs": [],
   "source": [
    "## Load Data ##\n",
    "data = \"\".join([nums for nums in open('input.txt').readlines()]).split(\"\\n\\n\")\n",
    "orderings = [[int(page) for page in num.split(\"|\")] for num in data[0].split(\"\\n\")]\n",
    "updates = [[int(num) for num in nums.split(\",\")] for nums in data[1].strip(\"\\n\").split(\"\\n\")]"
   ]
  },
  {
   "cell_type": "code",
   "execution_count": 206,
   "id": "34d23a89",
   "metadata": {},
   "outputs": [
    {
     "name": "stdout",
     "output_type": "stream",
     "text": [
      "5955\n"
     ]
    }
   ],
   "source": [
    "## Part 1\n",
    "order = {}\n",
    "for ordering in orderings:\n",
    "    order[ordering[0]] = order.get(ordering[0],[]) + [ordering[1]]\n",
    "\n",
    "total_good = 0\n",
    "for update in updates:\n",
    "    ## Go from back to front\n",
    "    correct = True\n",
    "    for i in range(len(update)-1,-1,-1):\n",
    "        if not set(update[i+1:len(update)]).issubset(set(order[update[i]])):\n",
    "            correct = False\n",
    "            \n",
    "    if correct:\n",
    "        total_good += update[int(len(update)//2)]\n",
    "        \n",
    "print(total_good)"
   ]
  },
  {
   "cell_type": "code",
   "execution_count": 207,
   "id": "b69a2b52",
   "metadata": {},
   "outputs": [
    {
     "data": {
      "text/plain": [
       "4030"
      ]
     },
     "execution_count": 207,
     "metadata": {},
     "output_type": "execute_result"
    }
   ],
   "source": [
    "## Part 2\n",
    "bad_updates = []\n",
    "for update in updates:\n",
    "    ## Go from back to front\n",
    "    correct = True\n",
    "    for i in range(len(update)-1,-1,-1):\n",
    "        if not set(update[i+1:len(update)]).issubset(set(order[update[i]])):\n",
    "            bad_updates += [update]\n",
    "            break\n",
    "\n",
    "            \n",
    "total_corrected = 0\n",
    "for update in bad_updates:\n",
    "    new_update = [update[0]]\n",
    "    \n",
    "    for page in update[1:]:\n",
    "        insert_index = 0\n",
    "        for i in range(len(new_update)):\n",
    "            if set(new_update[i:]).issubset(set(order[page])):\n",
    "                break\n",
    "            insert_index += 1\n",
    "\n",
    "        new_update.insert(insert_index, page)\n",
    "\n",
    "    total_corrected += new_update[int(len(update)//2)]\n",
    "    \n",
    "    \n",
    "total_corrected"
   ]
  }
 ],
 "metadata": {
  "kernelspec": {
   "display_name": "Python 3 (ipykernel)",
   "language": "python",
   "name": "python3"
  },
  "language_info": {
   "codemirror_mode": {
    "name": "ipython",
    "version": 3
   },
   "file_extension": ".py",
   "mimetype": "text/x-python",
   "name": "python",
   "nbconvert_exporter": "python",
   "pygments_lexer": "ipython3",
   "version": "3.10.8"
  }
 },
 "nbformat": 4,
 "nbformat_minor": 5
}
