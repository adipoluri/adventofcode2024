{
 "cells": [
  {
   "cell_type": "code",
   "execution_count": 68,
   "id": "948cb901",
   "metadata": {},
   "outputs": [],
   "source": [
    "## Format Input Data\n",
    "import re\n",
    "data = [[int(num) for num in re.findall(\"[\\d]+\", line.strip())] for line in open('input.txt').readlines()]"
   ]
  },
  {
   "cell_type": "code",
   "execution_count": 69,
   "id": "56748193",
   "metadata": {},
   "outputs": [
    {
     "data": {
      "text/plain": [
       "36954"
      ]
     },
     "execution_count": 69,
     "metadata": {},
     "output_type": "execute_result"
    }
   ],
   "source": [
    "## Part 1\n",
    "def solve(input):\n",
    "    a,b,c,a2,b2,c2 = input\n",
    "    x = ((c2*b)-(c*b2))/((-a*b2)+(a2*b))\n",
    "    y = ((a*x)-c)/(-b)\n",
    "    x = int(x)\n",
    "    y = int(y)\n",
    "    \n",
    "    if a*x+b*y==c and a2*x+b2*y==c2:\n",
    "        return(x,y)\n",
    "    return None\n",
    "    \n",
    "cost = 0\n",
    "for i in range(0,len(data),4):\n",
    "    res = solve((data[i][0],data[i+1][0],data[i+2][0],data[i][1],data[i+1][1],data[i+2][1]))\n",
    "    if res != None:\n",
    "        cost += 3*res[0] + res[1]\n",
    "\n",
    "cost"
   ]
  },
  {
   "cell_type": "code",
   "execution_count": 70,
   "id": "93fa9120",
   "metadata": {},
   "outputs": [
    {
     "data": {
      "text/plain": [
       "79352015273424"
      ]
     },
     "execution_count": 70,
     "metadata": {},
     "output_type": "execute_result"
    }
   ],
   "source": [
    "## Part 2\n",
    "cost = 0\n",
    "for i in range(0,len(data),4):\n",
    "    res = solve((data[i][0],data[i+1][0],10000000000000+data[i+2][0],data[i][1],data[i+1][1],10000000000000+data[i+2][1]))\n",
    "    if res != None:\n",
    "        cost += 3*res[0] + res[1]\n",
    "\n",
    "cost"
   ]
  }
 ],
 "metadata": {
  "kernelspec": {
   "display_name": "Python 3 (ipykernel)",
   "language": "python",
   "name": "python3"
  },
  "language_info": {
   "codemirror_mode": {
    "name": "ipython",
    "version": 3
   },
   "file_extension": ".py",
   "mimetype": "text/x-python",
   "name": "python",
   "nbconvert_exporter": "python",
   "pygments_lexer": "ipython3",
   "version": "3.10.8"
  }
 },
 "nbformat": 4,
 "nbformat_minor": 5
}
