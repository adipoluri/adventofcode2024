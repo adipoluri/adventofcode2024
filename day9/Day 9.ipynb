{
 "cells": [
  {
   "cell_type": "code",
   "execution_count": 247,
   "id": "1e732177",
   "metadata": {},
   "outputs": [],
   "source": [
    "## Load Data\n",
    "data = [[int(num) for num in locs.strip()] for locs in open('input.txt').readlines()][0]\n",
    "test = [[int(num) for num in locs.strip()] for locs in open('test.txt').readlines()][0]\n",
    "test2 = [[int(num) for num in locs.strip()] for locs in open('test2.txt').readlines()][0]"
   ]
  },
  {
   "cell_type": "code",
   "execution_count": 246,
   "id": "6b8b1e36",
   "metadata": {},
   "outputs": [
    {
     "data": {
      "text/plain": [
       "6607511583593"
      ]
     },
     "execution_count": 246,
     "metadata": {},
     "output_type": "execute_result"
    }
   ],
   "source": [
    "## Part 1\n",
    "checksum = 0\n",
    "block_num = 0\n",
    "hi_index = len(data)-1\n",
    "\n",
    "for i in range(len(data)):\n",
    "    if i%2==0: # Even Branch\n",
    "        for j in range(data[i]):\n",
    "            checksum += block_num * (i//2)\n",
    "            block_num += 1\n",
    "        \n",
    "    elif hi_index > i: # Odd Branch\n",
    "        for j in range(data[i]):\n",
    "            while hi_index > i and data[hi_index] == 0:\n",
    "                hi_index -= 2\n",
    "                \n",
    "            if hi_index <= i:\n",
    "                break\n",
    "                \n",
    "            checksum += (block_num * (hi_index//2))\n",
    "            data[hi_index] -= 1\n",
    "            block_num += 1\n",
    "        \n",
    "\n",
    "checksum"
   ]
  },
  {
   "cell_type": "code",
   "execution_count": 248,
   "id": "f7d8772b",
   "metadata": {},
   "outputs": [
    {
     "name": "stdout",
     "output_type": "stream",
     "text": [
      "6636608781232\n"
     ]
    }
   ],
   "source": [
    "## Part 2\n",
    "## Note: Part 1 implementation doesn't work as well for p2 so refactored for an OOP approach\n",
    "class File:\n",
    "    def __init__(self, size, block_num, id):\n",
    "        self.size = size\n",
    "        self.block_num = block_num\n",
    "        self.id = id\n",
    "\n",
    "class FreeBlock:\n",
    "    def __init__(self, size, block_num):\n",
    "        self.size = size\n",
    "        self.block_num = block_num\n",
    "\n",
    "class Disk:\n",
    "    def __init__(self):\n",
    "        self.freeBlocks = []\n",
    "        self.files = []\n",
    "    \n",
    "    def addFile(self, file):\n",
    "        self.files.append(file)\n",
    "        \n",
    "    def addFreeBlock(self, freeBlock):\n",
    "        if (freeBlock == None or freeBlock.size == 0):\n",
    "            return\n",
    "        self.freeBlocks.append(freeBlock)\n",
    "      \n",
    "    def getLowestFreeBlock(self, size):\n",
    "        retBlock = None\n",
    "        \n",
    "        for block in self.freeBlocks:\n",
    "            if block.size >= size:\n",
    "                if retBlock is None or block.block_num < retBlock.block_num:\n",
    "                    retBlock = block\n",
    "        \n",
    "        if retBlock != None:\n",
    "            self.freeBlocks.remove(retBlock)\n",
    "            \n",
    "        return retBlock\n",
    "        \n",
    "        \n",
    "    def decodeDiskMap(self, map):\n",
    "        file_id = 0\n",
    "        block_num = 0\n",
    "        for i in range(len(map)):\n",
    "            if i%2==0: # Even Branch\n",
    "                self.addFile(File(map[i],block_num,file_id))\n",
    "                file_id += 1\n",
    "            else: # Odd Branch\n",
    "                self.addFreeBlock(FreeBlock(map[i],block_num))\n",
    "            block_num += map[i]\n",
    "    \n",
    "    def wholeFileCompact(self):\n",
    "        for file in reversed(self.files):\n",
    "            free_spot = self.getLowestFreeBlock(file.size)\n",
    "\n",
    "            if free_spot != None and free_spot.block_num < file.block_num:\n",
    "                self.addFreeBlock(FreeBlock(file.size, file.block_num))\n",
    "                self.addFreeBlock(FreeBlock(free_spot.size - file.size, free_spot.block_num + file.size))\n",
    "                file.block_num = free_spot.block_num\n",
    "            else: \n",
    "                self.addFreeBlock(free_spot)\n",
    "\n",
    "    \n",
    "    def calculateChecksum(self):\n",
    "        checksum = 0\n",
    "        for file in self.files:\n",
    "            for i in range(file.size):\n",
    "                checksum += (file.block_num + i) * file.id\n",
    "        return checksum\n",
    "    \n",
    "\n",
    "disk = Disk()\n",
    "disk.decodeDiskMap(data)\n",
    "disk.wholeFileCompact()\n",
    "print(disk.calculateChecksum())"
   ]
  }
 ],
 "metadata": {
  "kernelspec": {
   "display_name": "Python 3 (ipykernel)",
   "language": "python",
   "name": "python3"
  },
  "language_info": {
   "codemirror_mode": {
    "name": "ipython",
    "version": 3
   },
   "file_extension": ".py",
   "mimetype": "text/x-python",
   "name": "python",
   "nbconvert_exporter": "python",
   "pygments_lexer": "ipython3",
   "version": "3.10.8"
  }
 },
 "nbformat": 4,
 "nbformat_minor": 5
}
