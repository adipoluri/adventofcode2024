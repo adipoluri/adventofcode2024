{
 "cells": [
  {
   "cell_type": "code",
   "execution_count": 27,
   "id": "2f2c296b",
   "metadata": {},
   "outputs": [],
   "source": [
    "## Format Input Data\n",
    "import re\n",
    "data = [[int(num) for num in re.findall(\"[-]*[\\d]+\", line.strip())] for line in open('input.txt').readlines()]\n",
    "test = [[int(num) for num in re.findall(\"[-]*[\\d]+\", line.strip())] for line in open('test.txt').readlines()]"
   ]
  },
  {
   "cell_type": "code",
   "execution_count": 19,
   "id": "01d5022d",
   "metadata": {},
   "outputs": [
    {
     "name": "stdout",
     "output_type": "stream",
     "text": [
      "Cost: 231782040\n"
     ]
    }
   ],
   "source": [
    "from matplotlib import pyplot as plt\n",
    "\n",
    "width = 101\n",
    "height = 103\n",
    "\n",
    "def printMap(data):\n",
    "    map = [[0 for _ in range(width)] for _ in range(height)]\n",
    "    for robot in data:\n",
    "        x,y,dx,dy = robot\n",
    "        map[y][x] += 1\n",
    "    \n",
    "    plt.imshow(map)\n",
    "    plt.show()\n",
    "    print(\"\\n\")\n",
    "\n",
    "for _ in range(100):\n",
    "    for i in range(len(data)):\n",
    "        x,y,dx,dy = data[i]\n",
    "        x += dx\n",
    "        y += dy\n",
    "\n",
    "        if x < 0:\n",
    "            x += width\n",
    "        elif x > width-1:\n",
    "            x -=  width\n",
    "\n",
    "        if y < 0:\n",
    "            y += height\n",
    "        elif y > height-1:\n",
    "            y -=  height\n",
    "\n",
    "        data[i] = [x,y,dx,dy]\n",
    "# printMap(data)\n",
    "\n",
    "\n",
    "map = [[0 for _ in range(width)] for _ in range(height)]\n",
    "for robot in data:\n",
    "    x,y,dx,dy = robot\n",
    "    map[y][x] += 1\n",
    "      \n",
    "q1 = sum([sum([num for num in map[i][:width//2]]) for i in range(len(map[:height//2]))])\n",
    "q2 = sum([sum([num for num in map[i][width//2+1:]]) for i in range(len(map[:height//2]))])\n",
    "q3 = sum([sum([num for num in map[height//2+1+i][:width//2]]) for i in range(len(map[height//2+1:]))])\n",
    "q4 = sum([sum([num for num in map[height//2+1+i][width//2+1:]]) for i in range(len(map[height//2+1:]))])\n",
    "\n",
    "print(\"Cost: \" + str(q1*q2*q3*q4))"
   ]
  },
  {
   "cell_type": "code",
   "execution_count": 28,
   "id": "ea734d03",
   "metadata": {},
   "outputs": [
    {
     "name": "stdout",
     "output_type": "stream",
     "text": [
      "6474\n"
     ]
    },
    {
     "data": {
      "image/png": "[encoded data removed]",
      "text/plain": [
       "<Figure size 640x480 with 1 Axes>"
      ]
     },
     "metadata": {},
     "output_type": "display_data"
    },
    {
     "name": "stdout",
     "output_type": "stream",
     "text": [
      "\n",
      "\n",
      "\n",
      "\n",
      "16877\n"
     ]
    },
    {
     "data": {
      "image/png": "[encoded data removed]",
      "text/plain": [
       "<Figure size 640x480 with 1 Axes>"
      ]
     },
     "metadata": {},
     "output_type": "display_data"
    },
    {
     "name": "stdout",
     "output_type": "stream",
     "text": [
      "\n",
      "\n",
      "\n",
      "\n"
     ]
    }
   ],
   "source": [
    "## Part 2\n",
    "width = 101\n",
    "height = 103\n",
    "\n",
    "\n",
    "for _ in range(20000):\n",
    "    robots = set()\n",
    "    for i in range(len(data)):\n",
    "        x,y,dx,dy = data[i]\n",
    "        x += dx\n",
    "        y += dy\n",
    "\n",
    "        if x < 0:\n",
    "            x += width\n",
    "        elif x > width-1:\n",
    "            x -=  width\n",
    "\n",
    "        if y < 0:\n",
    "            y += height\n",
    "        elif y > height-1:\n",
    "            y -=  height\n",
    "\n",
    "        data[i] = [x,y,dx,dy]\n",
    "        robots.add((x,y))\n",
    "        \n",
    "    if len(robots) == len(data):\n",
    "        print(_)\n",
    "        printMap(data)\n",
    "        print(\"\\n\")\n",
    "\n",
    "\n"
   ]
  }
 ],
 "metadata": {
  "kernelspec": {
   "display_name": "Python 3 (ipykernel)",
   "language": "python",
   "name": "python3"
  },
  "language_info": {
   "codemirror_mode": {
    "name": "ipython",
    "version": 3
   },
   "file_extension": ".py",
   "mimetype": "text/x-python",
   "name": "python",
   "nbconvert_exporter": "python",
   "pygments_lexer": "ipython3",
   "version": "3.12.3"
  }
 },
 "nbformat": 4,
 "nbformat_minor": 5
}
