{
 "cells": [
  {
   "cell_type": "code",
   "execution_count": 71,
   "id": "05da1034",
   "metadata": {},
   "outputs": [],
   "source": [
    "## Load Data ##\n",
    "data = \" \".join(open('input.txt').readlines())"
   ]
  },
  {
   "cell_type": "code",
   "execution_count": 74,
   "id": "7633e1f7",
   "metadata": {},
   "outputs": [
    {
     "data": {
      "text/plain": [
       "164730528"
      ]
     },
     "execution_count": 74,
     "metadata": {},
     "output_type": "execute_result"
    }
   ],
   "source": [
    "## Part 1\n",
    "import re\n",
    "matches = re.findall(\"mul[(][\\d]{1,3},[\\d]{1,3}[)]\", data)\n",
    "\n",
    "total = 0\n",
    "for match in matches:\n",
    "    \n",
    "    pattern = \"[\\d]{1,3}\"\n",
    "    numbers = re.findall(pattern, match)\n",
    "    total += int(numbers[0])*int(numbers[1])\n",
    "    \n",
    "total"
   ]
  },
  {
   "cell_type": "code",
   "execution_count": 75,
   "id": "1fcc865d",
   "metadata": {},
   "outputs": [
    {
     "data": {
      "text/plain": [
       "70478672"
      ]
     },
     "execution_count": 75,
     "metadata": {},
     "output_type": "execute_result"
    }
   ],
   "source": [
    "## Part 2\n",
    "\n",
    "import re\n",
    "\n",
    "matches = re.findall(\"mul[(][\\d]{1,3},[\\d]{1,3}[)]|do[(][)]|don't[(][)]\", data)\n",
    "\n",
    "total = 0\n",
    "enabled = True\n",
    "for match in matches:\n",
    "    if match == \"don't()\":\n",
    "        enabled = False\n",
    "    elif match == \"do()\":\n",
    "        enabled = True\n",
    "    elif enabled:\n",
    "        \n",
    "        pattern = \"[\\d]{1,3}\"\n",
    "\n",
    "        numbers = re.findall(pattern, match)\n",
    "        total += int(numbers[0])*int(numbers[1])\n",
    "\n",
    "total"
   ]
  }
 ],
 "metadata": {
  "kernelspec": {
   "display_name": "Python 3 (ipykernel)",
   "language": "python",
   "name": "python3"
  },
  "language_info": {
   "codemirror_mode": {
    "name": "ipython",
    "version": 3
   },
   "file_extension": ".py",
   "mimetype": "text/x-python",
   "name": "python",
   "nbconvert_exporter": "python",
   "pygments_lexer": "ipython3",
   "version": "3.10.8"
  }
 },
 "nbformat": 4,
 "nbformat_minor": 5
}
