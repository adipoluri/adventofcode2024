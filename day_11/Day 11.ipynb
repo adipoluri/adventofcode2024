{
 "cells": [
  {
   "cell_type": "code",
   "execution_count": 47,
   "id": "183384ec",
   "metadata": {},
   "outputs": [],
   "source": [
    "## Get Input Data\n",
    "data = [[int(letter) for letter in nums.strip(\"\\n\").split(\" \")] for nums in open('input.txt').readlines()][0]"
   ]
  },
  {
   "cell_type": "code",
   "execution_count": 48,
   "id": "a2677f30",
   "metadata": {},
   "outputs": [
    {
     "name": "stdout",
     "output_type": "stream",
     "text": [
      "193607\n"
     ]
    }
   ],
   "source": [
    "## Part 1\n",
    "res = [num for num in data]\n",
    "\n",
    "for i in range(25):\n",
    "    new = []\n",
    "    for num in res:\n",
    "        if num == 0:\n",
    "            new.append(1)\n",
    "        elif len(str(num))%2==0:\n",
    "            mid = len(str(num))//2\n",
    "            new.append(int(str(num)[:mid]))\n",
    "            new.append(int(str(num)[mid:]))\n",
    "        else:\n",
    "            new.append(num*2024)\n",
    "    res = [num for num in new]\n",
    "\n",
    "print(len(res))"
   ]
  },
  {
   "cell_type": "code",
   "execution_count": 61,
   "id": "be561698",
   "metadata": {},
   "outputs": [
    {
     "name": "stdout",
     "output_type": "stream",
     "text": [
      "229557103025807\n"
     ]
    }
   ],
   "source": [
    "## Part 2\n",
    "res = {}\n",
    "for num in data:\n",
    "    res[num] = res.get(num,0) + 1\n",
    "\n",
    "for i in range(75):\n",
    "    new = {}\n",
    "    for num in res:\n",
    "        if num == 0:\n",
    "            new[1] = new.get(1,0) + res[num]\n",
    "        elif len(str(num))%2==0:\n",
    "            mid = len(str(num))//2\n",
    "            new[int(str(num)[:mid])] = new.get(int(str(num)[:mid]),0) + res[num]\n",
    "            new[int(str(num)[mid:])] = new.get(int(str(num)[mid:]),0) + res[num]\n",
    "        else:\n",
    "            new[num*2024] = res[num]\n",
    "\n",
    "    res = new.copy()\n",
    "\n",
    "rocks = 0\n",
    "[rocks := rocks + res[num] for num in res]\n",
    "\n",
    "print(rocks)"
   ]
  }
 ],
 "metadata": {
  "kernelspec": {
   "display_name": "Python 3 (ipykernel)",
   "language": "python",
   "name": "python3"
  },
  "language_info": {
   "codemirror_mode": {
    "name": "ipython",
    "version": 3
   },
   "file_extension": ".py",
   "mimetype": "text/x-python",
   "name": "python",
   "nbconvert_exporter": "python",
   "pygments_lexer": "ipython3",
   "version": "3.10.8"
  }
 },
 "nbformat": 4,
 "nbformat_minor": 5
}
