{
 "cells": [
  {
   "cell_type": "code",
   "execution_count": 85,
   "id": "4fe91925",
   "metadata": {},
   "outputs": [],
   "source": [
    "## Load Data ##\n",
    "data = [[int(num) for num in nums.replace(\"\\n\",\"\").split()] for nums in open('input.txt').readlines()]"
   ]
  },
  {
   "cell_type": "code",
   "execution_count": 86,
   "id": "ac59aeab",
   "metadata": {},
   "outputs": [],
   "source": [
    "## Part 1\n",
    "list1 = [nums[0] for nums in data]\n",
    "list2 = [nums[1] for nums in data]\n",
    "\n",
    "list1.sort()\n",
    "list2.sort()\n",
    "\n",
    "total2 = 0\n",
    "for i in range(len(list1)):\n",
    "    total2 += abs(list1[i]-list2[i])"
   ]
  },
  {
   "cell_type": "code",
   "execution_count": 87,
   "id": "e156e18c",
   "metadata": {},
   "outputs": [
    {
     "name": "stdout",
     "output_type": "stream",
     "text": [
      "1879048\n"
     ]
    }
   ],
   "source": [
    "print(total2)"
   ]
  },
  {
   "cell_type": "code",
   "execution_count": 88,
   "id": "00240dea",
   "metadata": {},
   "outputs": [],
   "source": [
    "## Part 2\n",
    "\n",
    "count = {}\n",
    "for num in data:\n",
    "    count[num[1]] = count.get(num[1],0)+1\n",
    "\n",
    "total3 = 0\n",
    "for num in data:\n",
    "    total3 += num[0]*count.get(num[0],0)"
   ]
  },
  {
   "cell_type": "code",
   "execution_count": 74,
   "id": "4cccd71d",
   "metadata": {},
   "outputs": [
    {
     "name": "stdout",
     "output_type": "stream",
     "text": [
      "21024792\n"
     ]
    }
   ],
   "source": [
    "print(total3)"
   ]
  }
 ],
 "metadata": {
  "kernelspec": {
   "display_name": "Python 3 (ipykernel)",
   "language": "python",
   "name": "python3"
  },
  "language_info": {
   "codemirror_mode": {
    "name": "ipython",
    "version": 3
   },
   "file_extension": ".py",
   "mimetype": "text/x-python",
   "name": "python",
   "nbconvert_exporter": "python",
   "pygments_lexer": "ipython3",
   "version": "3.10.8"
  }
 },
 "nbformat": 4,
 "nbformat_minor": 5
}
