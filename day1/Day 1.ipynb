{
 "cells": [
  {
   "cell_type": "code",
   "execution_count": 85,
   "id": "05956bb6",
   "metadata": {},
   "outputs": [],
   "source": [
    "## Load Data ##\n",
    "data = [[int(num) for num in nums.replace(\"\\n\",\"\").split()] for nums in open('input.txt').readlines()]"
   ]
  },
  {
   "cell_type": "code",
   "execution_count": 86,
   "id": "195577b9",
   "metadata": {},
   "outputs": [],
   "source": [
    "## Part 1\n",
    "\n",
    "list1 = [nums[0] for nums in data]\n",
    "list2 = [nums[1] for nums in data]\n",
    "\n",
    "list1.sort()\n",
    "list2.sort()\n",
    "\n",
    "total2 = 0\n",
    "for i in range(len(list1)):\n",
    "    total2 += abs(list1[i]-list2[i])"
   ]
  },
  {
   "cell_type": "code",
   "execution_count": 87,
   "id": "e631bfa3",
   "metadata": {},
   "outputs": [
    {
     "name": "stdout",
     "output_type": "stream",
     "text": [
      "1879048\n"
     ]
    }
   ],
   "source": [
    "print(total2)"
   ]
  },
  {
   "cell_type": "code",
   "execution_count": 91,
   "id": "093b7ac5",
   "metadata": {},
   "outputs": [],
   "source": [
    "## Part 2\n",
    "\n",
    "count = {}\n",
    "for num in data:\n",
    "    count[num[1]] = count.get(num[1],0)+1\n",
    "\n",
    "total3 = 0\n",
    "for num in data:\n",
    "    total3 += num[0]*count.get(num[0],0)"
   ]
  },
  {
   "cell_type": "code",
   "execution_count": 92,
   "id": "9711ec6b",
   "metadata": {},
   "outputs": [
    {
     "name": "stdout",
     "output_type": "stream",
     "text": [
      "21024792\n"
     ]
    }
   ],
   "source": [
    "print(total3)"
   ]
  }
 ],
 "metadata": {
  "kernelspec": {
   "display_name": "Python 3 (ipykernel)",
   "language": "python",
   "name": "python3"
  },
  "language_info": {
   "codemirror_mode": {
    "name": "ipython",
    "version": 3
   },
   "file_extension": ".py",
   "mimetype": "text/x-python",
   "name": "python",
   "nbconvert_exporter": "python",
   "pygments_lexer": "ipython3",
   "version": "3.10.8"
  }
 },
 "nbformat": 4,
 "nbformat_minor": 5
}
