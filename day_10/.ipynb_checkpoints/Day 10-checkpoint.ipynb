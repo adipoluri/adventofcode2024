{
 "cells": [
  {
   "cell_type": "code",
   "execution_count": 22,
   "id": "c52f0384",
   "metadata": {},
   "outputs": [],
   "source": [
    "## Get Input Data\n",
    "data = [[int(letter) for letter in nums.strip(\"\\n\")] for nums in open('input.txt').readlines()]\n",
    "test = [[int(letter) for letter in nums.strip(\"\\n\")] for nums in open('test.txt').readlines()]"
   ]
  },
  {
   "cell_type": "code",
   "execution_count": 23,
   "id": "ec5cc8f2",
   "metadata": {},
   "outputs": [
    {
     "data": {
      "text/plain": [
       "674"
      ]
     },
     "execution_count": 23,
     "metadata": {},
     "output_type": "execute_result"
    }
   ],
   "source": [
    "## Part 1\n",
    "trailheads = []\n",
    "for i in range(len(data)):\n",
    "    for j in range(len(data[0])):\n",
    "        if data[i][j] == 0:\n",
    "            trailheads.append((j,i))\n",
    "            \n",
    "\n",
    "def getTrailPiece(x,y, data):\n",
    "    if x < 0 or y < 0:\n",
    "        return None\n",
    "    else:\n",
    "        try:\n",
    "            return data[y][x]\n",
    "        except:\n",
    "            return None\n",
    "        \n",
    "def DFS(pos, prev, arr):\n",
    "    curr = getTrailPiece(pos[0],pos[1],data)\n",
    "    if curr is None:\n",
    "        return\n",
    "    if curr != prev + 1:\n",
    "        return\n",
    "    if curr == 9:\n",
    "        arr.add(pos)\n",
    "    \n",
    "    DFS((pos[0]+1,pos[1]), curr, arr)\n",
    "    DFS((pos[0]-1,pos[1]), curr, arr)\n",
    "    DFS((pos[0],pos[1]+1), curr, arr)\n",
    "    DFS((pos[0],pos[1]-1), curr, arr)\n",
    "\n",
    "trailhead_sum = 0\n",
    "for trailhead in trailheads:\n",
    "    arr = set({})\n",
    "    DFS(trailhead, -1, arr)\n",
    "    trailhead_sum += len(arr)\n",
    "    \n",
    "trailhead_sum"
   ]
  },
  {
   "cell_type": "code",
   "execution_count": 14,
   "id": "dd09edbe",
   "metadata": {},
   "outputs": [
    {
     "name": "stdout",
     "output_type": "stream",
     "text": [
      "[2]\n",
      "[2, 2]\n"
     ]
    }
   ],
   "source": []
  },
  {
   "cell_type": "code",
   "execution_count": null,
   "id": "8beecbb6",
   "metadata": {},
   "outputs": [],
   "source": []
  }
 ],
 "metadata": {
  "kernelspec": {
   "display_name": "Python 3 (ipykernel)",
   "language": "python",
   "name": "python3"
  },
  "language_info": {
   "codemirror_mode": {
    "name": "ipython",
    "version": 3
   },
   "file_extension": ".py",
   "mimetype": "text/x-python",
   "name": "python",
   "nbconvert_exporter": "python",
   "pygments_lexer": "ipython3",
   "version": "3.10.8"
  }
 },
 "nbformat": 4,
 "nbformat_minor": 5
}
