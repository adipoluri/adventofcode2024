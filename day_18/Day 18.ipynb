{
 "cells": [
  {
   "cell_type": "code",
   "execution_count": 105,
   "id": "961d1293-ad59-46da-8c35-665c57df2e16",
   "metadata": {},
   "outputs": [],
   "source": [
    "## Format Input\n",
    "find_location = lambda grid, target: next(((j, i) for i, row in enumerate(grid) for j, elem in enumerate(row) if elem == target), None)\n",
    "\n",
    "def getInput():\n",
    "    maze = [[\".\" for _ in range(73)] for _ in range(73)]\n",
    "    for i in range(73):\n",
    "        maze[0][i] = \"#\"\n",
    "        maze[72][i] = \"#\"\n",
    "        maze[i][0] = \"#\"\n",
    "        maze[i][72] = \"#\"\n",
    "    start = (1,1)\n",
    "    end = (71,71)\n",
    "    return maze, start, end"
   ]
  },
  {
   "cell_type": "code",
   "execution_count": 117,
   "id": "8f1da0c1-c655-4285-b2c5-491b5c1a06d8",
   "metadata": {},
   "outputs": [
    {
     "name": "stdout",
     "output_type": "stream",
     "text": [
      "720\n"
     ]
    }
   ],
   "source": [
    "## Part 1\n",
    "from queue import PriorityQueue\n",
    "from matplotlib import pyplot as plt\n",
    "\n",
    "directions = {\n",
    "\"E\":[(1,0,\"E\"),(0,1,\"S\"),(0,-1,\"N\")],\n",
    "\"W\":[(-1,0,\"W\"),(0,1,\"S\"),(0,-1,\"N\")],\n",
    "\"N\":[(0,-1,\"N\"),(1,0,\"E\"),(-1,0,\"W\")],\n",
    "\"S\":[(0,1,\"S\"),(1,0,\"E\"),(-1,0,\"W\")]\n",
    "}\n",
    "\n",
    "def printMaze(maze,visited,end):\n",
    "    printMaze = [[1 if node == \"#\" else 0 for node in row] for row in maze]\n",
    "    for node in visited:\n",
    "        printMaze[node[1]][node[0]] = 2\n",
    "    plt.imshow(printMaze)\n",
    "    plt.show()\n",
    "            \n",
    "def getNeighbours(node,maze):\n",
    "    cost,pos = node\n",
    "    vectors = [(1,0),(0,1),(0,-1),(-1,0)]\n",
    "    adj = []\n",
    "    for vector in vectors:\n",
    "        dx,dy = vector\n",
    "        if maze[pos[1]+dy][pos[0]+dx] == \"#\":\n",
    "            continue\n",
    "        adj.append((cost + 1, (pos[0]+dx,pos[1]+dy)))\n",
    "    return adj\n",
    "        \n",
    "\n",
    "maze, start, end = getInput()\n",
    "for x,y in [[int(num) for num in cord.strip().split(\",\")] for cord in open('input.txt').readlines()[:3037]]:\n",
    "    maze[y+1][x+1] = \"#\"\n",
    "        \n",
    "q = [(0,start)]\n",
    "visited = [start]\n",
    "res = []\n",
    "\n",
    "       \n",
    "while len(q) > 0:\n",
    "    cost,pos = q.pop(0)\n",
    "    neighbours = getNeighbours((cost,pos), maze)\n",
    "    for adj in neighbours:\n",
    "        if adj[1] == end:\n",
    "            res.append(adj[0])\n",
    "        elif adj[1] not in visited:\n",
    "            q.append(adj)\n",
    "            visited.append(adj[1])\n",
    "            \n",
    "                \n",
    "print(min(res))"
   ]
  },
  {
   "cell_type": "code",
   "execution_count": 123,
   "id": "844695b1-eef0-47d5-bc3f-575806173f19",
   "metadata": {},
   "outputs": [
    {
     "name": "stdout",
     "output_type": "stream",
     "text": [
      "(28, 26)\n"
     ]
    }
   ],
   "source": [
    "## Part 2\n",
    "from queue import PriorityQueue\n",
    "from matplotlib import pyplot as plt\n",
    "\n",
    "maze, start, end = getInput()\n",
    "coords = [[int(num) for num in coord.strip().split(\",\")] for coord in open('input.txt').readlines()]\n",
    "for x,y in coords[:3030]:\n",
    "    maze[y+1][x+1] = \"#\"  \n",
    "\n",
    "for x,y in coords[3030:]:\n",
    "    maze[y+1][x+1] = \"#\"  \n",
    "    q = [(0,start)]\n",
    "    visited = [start]\n",
    "    res = []\n",
    "    while len(q) > 0:\n",
    "        cost,pos = q.pop(0)\n",
    "        neighbours = getNeighbours((cost,pos), maze)\n",
    "        for adj in neighbours:\n",
    "            if adj[1] == end:\n",
    "                res.append(adj[0])\n",
    "            elif adj[1] not in visited:\n",
    "                q.append(adj)\n",
    "                visited.append(adj[1])\n",
    "                \n",
    "    if(len(res)) == 0:\n",
    "        print((x,y))\n",
    "        break\n",
    "        \n",
    "        \n",
    "                "
   ]
  }
 ],
 "metadata": {
  "kernelspec": {
   "display_name": "Python 3 (ipykernel)",
   "language": "python",
   "name": "python3"
  },
  "language_info": {
   "codemirror_mode": {
    "name": "ipython",
    "version": 3
   },
   "file_extension": ".py",
   "mimetype": "text/x-python",
   "name": "python",
   "nbconvert_exporter": "python",
   "pygments_lexer": "ipython3",
   "version": "3.12.3"
  }
 },
 "nbformat": 4,
 "nbformat_minor": 5
}
