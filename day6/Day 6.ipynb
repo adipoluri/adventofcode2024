{
 "cells": [
  {
   "cell_type": "code",
   "execution_count": 53,
   "id": "f74dfa12",
   "metadata": {},
   "outputs": [
    {
     "name": "stdout",
     "output_type": "stream",
     "text": [
      "['.', '.', '.', '.', '#', '.', '.', '.', '.', '.']\n",
      "['.', '.', '.', '.', '.', '.', '.', '.', '.', '#']\n",
      "['.', '.', '.', '.', '.', '.', '.', '.', '.', '.']\n",
      "['.', '.', '#', '.', '.', '.', '.', '.', '.', '.']\n",
      "['.', '.', '.', '.', '.', '.', '.', '#', '.', '.']\n",
      "['.', '.', '.', '.', '.', '.', '.', '.', '.', '.']\n",
      "['.', '#', '.', '.', '^', '.', '.', '.', '.', '.']\n",
      "['.', '.', '.', '.', '.', '.', '.', '.', '#', '.']\n",
      "['#', '.', '.', '.', '.', '.', '.', '.', '.', '.']\n",
      "['.', '.', '.', '.', '.', '.', '#', '.', '.', '.']\n"
     ]
    }
   ],
   "source": [
    "## Load Data ##\n",
    "data = [[letter for letter in nums.strip(\"\\n\")] for nums in open('input.txt').readlines()]\n",
    "test_data = [[letter for letter in nums.strip(\"\\n\")] for nums in open('test.txt').readlines()]\n",
    "\n",
    "for line in test_data:\n",
    "    print(line)"
   ]
  },
  {
   "cell_type": "code",
   "execution_count": 76,
   "id": "be3ff755",
   "metadata": {},
   "outputs": [
    {
     "name": "stdout",
     "output_type": "stream",
     "text": [
      "4826\n"
     ]
    }
   ],
   "source": [
    "## Part 1\n",
    "def getStartCoords(data_map):\n",
    "    for i in range(len(data_map)):\n",
    "        for j in range(len(data_map[0])):\n",
    "            if data_map[i][j] == \"^\":\n",
    "                return((i,j))\n",
    "    \n",
    "def getNextPos(pos, data_map):\n",
    "    x,y,dir = pos\n",
    "    \n",
    "    try:\n",
    "        if dir == \"UP\":\n",
    "            if y == 0:\n",
    "                return False\n",
    "            if data_map[y-1][x] == \"#\":\n",
    "                return (x,y,\"RIGHT\")\n",
    "            return (x,y-1,dir)\n",
    "        \n",
    "        elif dir == \"DOWN\":\n",
    "            if data_map[y+1][x] == \"#\":\n",
    "                return (x,y,\"LEFT\")\n",
    "            return (x,y+1,dir)\n",
    "        \n",
    "        elif dir == \"LEFT\":\n",
    "            if x == 0:\n",
    "                return False\n",
    "            if data_map[y][x-1] == \"#\":\n",
    "                return (x,y,\"UP\")\n",
    "            return (x-1,y,dir)\n",
    "        \n",
    "        elif dir == \"RIGHT\":\n",
    "            if data_map[y][x+1] == \"#\":\n",
    "                return (x,y,\"DOWN\")\n",
    "            return (x+1,y,dir)\n",
    "    except:\n",
    "        return False\n",
    "    \n",
    "    \n",
    "startY, startX = getStartCoords(data)\n",
    "pos = (startX, startY, \"UP\")\n",
    "\n",
    "visited = []\n",
    "while pos != False:\n",
    "    if (pos[0], pos[1]) not in visited:\n",
    "        visited.append((pos[0],pos[1]))\n",
    "        \n",
    "    pos = getNextPos(pos, data)\n",
    "    \n",
    "    \n",
    "print(len(visited))"
   ]
  },
  {
   "cell_type": "code",
   "execution_count": 74,
   "id": "165e48fe",
   "metadata": {},
   "outputs": [
    {
     "name": "stdout",
     "output_type": "stream",
     "text": [
      "Skipped since Start Found\n",
      "Time Elapsed: 7.638s\n",
      "Number of Possible Obstacles: 1721\n"
     ]
    }
   ],
   "source": [
    "## Part 2  \n",
    "import time\n",
    "    \n",
    "def isStuckInLoop(start, patrol_map):\n",
    "    locations = {}   \n",
    "    pos = start\n",
    "    while pos != False:\n",
    "        locations[pos] = locations.get(pos,0) + 1\n",
    "        if locations[pos] > 4:\n",
    "            return True\n",
    "        pos = getNextPos(pos, patrol_map)\n",
    "        \n",
    "    return False\n",
    "\n",
    "\n",
    "def getGuardPath(map):\n",
    "    startY, startX = getStartCoords(map)\n",
    "    pos = (startX, startY, \"UP\")\n",
    "\n",
    "    possible_obstacles = []\n",
    "    while pos != False:\n",
    "        if pos not in possible_obstacles:\n",
    "            possible_obstacles.append(pos)\n",
    "\n",
    "        pos = getNextPos(pos, map)\n",
    "    \n",
    "    return possible_obstacles\n",
    "\n",
    "\n",
    "startTime = time.time()\n",
    "\n",
    "patrol_map = [row[:] for row in data]\n",
    "startY, startX = getStartCoords(patrol_map)\n",
    "start = (startX, startY, \"UP\")\n",
    "\n",
    "infinite_loops = {}\n",
    "for pos in getGuardPath(patrol_map):\n",
    "\n",
    "\n",
    "    if (pos[0], pos[1]) == (startX, startY):\n",
    "        print(\"Skipped since Start Found\")\n",
    "        continue\n",
    "    if (pos[0],pos[1]) in infinite_loops:\n",
    "        continue\n",
    "\n",
    "    \n",
    "    new_patrol_map = [row[:] for row in patrol_map]\n",
    "    new_patrol_map[pos[1]][pos[0]] = \"#\"\n",
    "    if(isStuckInLoop(start, new_patrol_map)):\n",
    "        infinite_loops[(pos[0],pos[1])] = 1\n",
    "        \n",
    "endTime = time.time()\n",
    "print(\"Time Elapsed: \" + str((endTime - startTime))[:5] + \"s\")\n",
    "print(\"Number of Possible Obstacles: \" + str(len(infinite_loops)))\n"
   ]
  }
 ],
 "metadata": {
  "kernelspec": {
   "display_name": "Python 3 (ipykernel)",
   "language": "python",
   "name": "python3"
  },
  "language_info": {
   "codemirror_mode": {
    "name": "ipython",
    "version": 3
   },
   "file_extension": ".py",
   "mimetype": "text/x-python",
   "name": "python",
   "nbconvert_exporter": "python",
   "pygments_lexer": "ipython3",
   "version": "3.10.8"
  }
 },
 "nbformat": 4,
 "nbformat_minor": 5
}
